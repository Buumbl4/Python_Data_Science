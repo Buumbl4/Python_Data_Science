{
 "cells": [
  {
   "cell_type": "markdown",
   "metadata": {
    "id": "_kwAaQ36gLQ1"
   },
   "source": [
    "# Sobre o notebook\n",
    "\n",
    "A \"hora da prática\" é uma atividade do curso de Python para Data Science da Alura que contém diversos desafios envolvendo os aprendizados de cada aula.\n",
    "\n",
    "O notebook \"hora da pratica\" é um notebook construído com espaço para as células dos desafios propostos no curso, com ele você tem espaço para construir e executar suas soluções"
   ]
  },
  {
   "cell_type": "markdown",
   "metadata": {
    "id": "Mc-KN0dA0Z83"
   },
   "source": [
    "## Aula 1 - Introdução ao Python"
   ]
  },
  {
   "cell_type": "markdown",
   "metadata": {
    "id": "l5eLWf0W0ikn"
   },
   "source": [
    "### Questão 1\n",
    "\n",
    "Imprima a frase `Escola de Dados da Alura!`"
   ]
  },
  {
   "cell_type": "code",
   "execution_count": 3,
   "metadata": {
    "id": "5pllxJ0h0-yA"
   },
   "outputs": [
    {
     "name": "stdout",
     "output_type": "stream",
     "text": [
      "Escola de Dados da Alura!\n"
     ]
    }
   ],
   "source": [
    "print('Escola de Dados da Alura!')"
   ]
  },
  {
   "cell_type": "markdown",
   "metadata": {
    "id": "tQdX90Ue03c7"
   },
   "source": [
    "### Questão 2\n",
    "Imprima na tela seu nome e seu sobrenome seguindo a estrutura abaixo:\n",
    "```\n",
    "Nome: [seu nome]\n",
    "Sobrenome: [seu sobrenome]\n",
    "```\n"
   ]
  },
  {
   "cell_type": "code",
   "execution_count": 9,
   "metadata": {
    "id": "RVw5iKn20_Ps"
   },
   "outputs": [
    {
     "name": "stdout",
     "output_type": "stream",
     "text": [
      "Nome: Filipe\n",
      "Sobrenome: Castro\n",
      "Idade:32\n"
     ]
    }
   ],
   "source": [
    "print('Nome: Filipe\\nSobrenome: Castro\\nIdade:32')"
   ]
  },
  {
   "cell_type": "markdown",
   "metadata": {
    "id": "gfg-aiip03vC"
   },
   "source": [
    "### Questão 3\n",
    "Imprima o seu primeiro nome letra a letra. Por exemplo, nome é Mirla, então eu obtenho a seguinte saída:\n",
    "```\n",
    "M\n",
    "I\n",
    "R\n",
    "L\n",
    "A\n",
    "```\n"
   ]
  },
  {
   "cell_type": "code",
   "execution_count": 11,
   "metadata": {
    "id": "v5bkrgf60_qx"
   },
   "outputs": [
    {
     "name": "stdout",
     "output_type": "stream",
     "text": [
      "F\n",
      "i\n",
      "l\n",
      "i\n",
      "p\n",
      "e\n"
     ]
    }
   ],
   "source": [
    "print('F\\ni\\nl\\ni\\np\\ne')"
   ]
  },
  {
   "cell_type": "markdown",
   "metadata": {
    "id": "oadrJbl704MM"
   },
   "source": [
    "### Questão 4\n",
    "Imprima o dia do seu nascimento em formato `dia mês ano`. Os valores de dia e ano não podem estar entre aspas. O formato deve estar como no exemplo, supondo uma data de aniversário dia 28 de fevereiro de 2003:\n",
    "```\n",
    "28 fevereiro 2003\n",
    "```"
   ]
  },
  {
   "cell_type": "code",
   "execution_count": 13,
   "metadata": {
    "id": "cx0KSsrq1ALD"
   },
   "outputs": [
    {
     "name": "stdout",
     "output_type": "stream",
     "text": [
      "28 setembro 1992\n"
     ]
    }
   ],
   "source": [
    "print(28,'setembro',1992)"
   ]
  },
  {
   "cell_type": "markdown",
   "metadata": {
    "id": "3RgyMaan04TD"
   },
   "source": [
    "### Questão 5\n",
    "Imprima em um único print o atual ano que você está fazendo esse curso, o valor do ano deve ser um dado numérico. A saída do print deve ser a seguinte:\n",
    "```\n",
    "Ano atual: [ano]\n",
    "```\n"
   ]
  },
  {
   "cell_type": "code",
   "execution_count": 15,
   "metadata": {
    "id": "UN77EfQ2d36Y"
   },
   "outputs": [
    {
     "name": "stdout",
     "output_type": "stream",
     "text": [
      "Ano atual: 2025\n"
     ]
    }
   ],
   "source": [
    "print('Ano atual:', 2025)"
   ]
  },
  {
   "cell_type": "markdown",
   "metadata": {
    "id": "D9e3FqhO1S3X"
   },
   "source": [
    "## Aula 2 - Manipulando dados no Python"
   ]
  },
  {
   "cell_type": "markdown",
   "metadata": {
    "id": "n6o7C1Ze2cRe"
   },
   "source": [
    "### Coleta e amostragem de dados"
   ]
  },
  {
   "cell_type": "markdown",
   "metadata": {
    "id": "sRneWag9PV5Q"
   },
   "source": [
    "#### Questão 1\n",
    "Crie um programa que solicite à pessoa usuária digitar seu nome, e imprima “Olá, [nome]!”."
   ]
  },
  {
   "cell_type": "code",
   "execution_count": 12,
   "metadata": {
    "id": "dbX1fKqy2HnE"
   },
   "outputs": [
    {
     "name": "stdin",
     "output_type": "stream",
     "text": [
      "Digite o seu nome: Monique\n"
     ]
    },
    {
     "name": "stdout",
     "output_type": "stream",
     "text": [
      "Olá, Monique\n"
     ]
    }
   ],
   "source": [
    "nome_a = input('Digite o seu nome:')\n",
    "print(f'Olá, {nome_a}')"
   ]
  },
  {
   "cell_type": "markdown",
   "metadata": {
    "id": "BJ1SznEp70d5"
   },
   "source": [
    "#### Questão 2\n",
    "Crie um programa que solicite à pessoa usuária digitar seu nome e idade, e imprima “Olá, [nome], você tem [idade] anos.”."
   ]
  },
  {
   "cell_type": "code",
   "execution_count": 8,
   "metadata": {
    "id": "jKz-0Sq8PFkp"
   },
   "outputs": [
    {
     "name": "stdin",
     "output_type": "stream",
     "text": [
      "Digite o seu nome: Marília\n",
      "Digite a sua idade: 61\n"
     ]
    },
    {
     "name": "stdout",
     "output_type": "stream",
     "text": [
      "Olá, Marília, você tem 61 anos\n"
     ]
    }
   ],
   "source": [
    "nome_b = input('Digite o seu nome:')\n",
    "idade_b = input('Digite a sua idade:')\n",
    "idade_b = int(idade_b)\n",
    "print(f'Olá, {nome_b}, você tem {idade_b} anos')"
   ]
  },
  {
   "cell_type": "markdown",
   "metadata": {
    "id": "2T0jNYZt70aa"
   },
   "source": [
    "#### Questão 3\n",
    "Crie um programa que solicite à pessoa usuária digitar seu nome, idade e altura em metros, e imprima “Olá, [nome], você tem [idade] anos e mede [altura] metros!”."
   ]
  },
  {
   "cell_type": "code",
   "execution_count": 22,
   "metadata": {
    "id": "pI4kHNzTPIXh"
   },
   "outputs": [
    {
     "name": "stdin",
     "output_type": "stream",
     "text": [
      "Digite o seu nome: Filipe\n",
      "Digite a sua idade: 32\n",
      "Digite a sua altura: 1.75\n"
     ]
    },
    {
     "name": "stdout",
     "output_type": "stream",
     "text": [
      "Olá, Filipe, você tem 32 anos e mede 1.75 metros!\n"
     ]
    }
   ],
   "source": [
    "nome_c = input('Digite o seu nome:')\n",
    "idade_c = int(input('Digite a sua idade:'))\n",
    "altura_c = float(input('Digite a sua altura:'))\n",
    "print(f'Olá, {nome_c}, você tem {idade_c} anos e mede {altura_c} metros!')"
   ]
  },
  {
   "cell_type": "markdown",
   "metadata": {
    "id": "mEBFwKkC70KP"
   },
   "source": [
    "### Calculadora com operadores"
   ]
  },
  {
   "cell_type": "markdown",
   "metadata": {
    "id": "H-IV1oAPPSqK"
   },
   "source": [
    "#### Questão 1\n",
    "\n",
    "Crie um programa que solicite dois valores numéricos à pessoa usuária e imprima a soma dos dois valores."
   ]
  },
  {
   "cell_type": "code",
   "execution_count": 48,
   "metadata": {
    "id": "Zb0W84sy8rnp"
   },
   "outputs": [
    {
     "name": "stdin",
     "output_type": "stream",
     "text": [
      " 5\n",
      " 8\n"
     ]
    },
    {
     "name": "stdout",
     "output_type": "stream",
     "text": [
      "13\n"
     ]
    }
   ],
   "source": [
    "v1 = int(input())\n",
    "v2 = int(input())\n",
    "print(v1 + v2)"
   ]
  },
  {
   "cell_type": "markdown",
   "metadata": {
    "id": "LUoi2MOu70Em"
   },
   "source": [
    "#### Questão 2\n",
    "Crie um programa que solicite três valores numéricos à pessoa usuária e imprima a soma dos três valores."
   ]
  },
  {
   "cell_type": "code",
   "execution_count": 54,
   "metadata": {
    "id": "4FYjWyBS8rDm"
   },
   "outputs": [
    {
     "name": "stdin",
     "output_type": "stream",
     "text": [
      " 5\n",
      " 8\n",
      " 13\n"
     ]
    },
    {
     "name": "stdout",
     "output_type": "stream",
     "text": [
      "A soma dos valores é:, 26\n"
     ]
    }
   ],
   "source": [
    "v1 = int(input())\n",
    "v2 = int(input())\n",
    "v3 = int(input())\n",
    "print(f'A soma dos valores é:, {v1 + v2 + v3}')"
   ]
  },
  {
   "cell_type": "markdown",
   "metadata": {
    "id": "lezGctF07z8i"
   },
   "source": [
    "#### Questão 3\n",
    "Crie um programa que solicite dois valores numéricos à pessoa usuária e imprima a subtração do primeiro pelo o segundo valor."
   ]
  },
  {
   "cell_type": "code",
   "execution_count": 56,
   "metadata": {
    "id": "k0GE1z4w8p3J"
   },
   "outputs": [
    {
     "name": "stdin",
     "output_type": "stream",
     "text": [
      " 8\n",
      " 12\n"
     ]
    },
    {
     "name": "stdout",
     "output_type": "stream",
     "text": [
      "-4\n"
     ]
    }
   ],
   "source": [
    "v1 = int(input())\n",
    "v2 = int(input())\n",
    "print(v1 - v2)"
   ]
  },
  {
   "cell_type": "markdown",
   "metadata": {
    "id": "wwMP-dPU7zxW"
   },
   "source": [
    "#### Questão 4\n",
    "\n",
    "Crie um programa que solicite dois valores numéricos à pessoa usuária e imprima a multiplicação dos dois valores.\n"
   ]
  },
  {
   "cell_type": "code",
   "execution_count": 58,
   "metadata": {
    "id": "GzFCVHfp8peZ"
   },
   "outputs": [
    {
     "name": "stdin",
     "output_type": "stream",
     "text": [
      " 2\n",
      " 8\n"
     ]
    },
    {
     "name": "stdout",
     "output_type": "stream",
     "text": [
      "16\n"
     ]
    }
   ],
   "source": [
    "v1 = int(input())\n",
    "v2 = int(input())\n",
    "print(v1 * v2)"
   ]
  },
  {
   "cell_type": "markdown",
   "metadata": {
    "id": "9kxyHxUo7zRD"
   },
   "source": [
    "#### Questão 5\n",
    "\n",
    "Crie um programa que solicite dois valores numéricos, um numerador e um denominador, e realize a divisão entre os dois valores. Deixe claro que o valor do denominador não pode ser `0`.\n"
   ]
  },
  {
   "cell_type": "code",
   "execution_count": 64,
   "metadata": {
    "id": "ytJ8l5KH8ozc"
   },
   "outputs": [
    {
     "name": "stdin",
     "output_type": "stream",
     "text": [
      "Digite um numerador maior que zero: 10\n",
      "Digite um denominador maior que zero: 2\n"
     ]
    },
    {
     "name": "stdout",
     "output_type": "stream",
     "text": [
      "5.0\n"
     ]
    }
   ],
   "source": [
    "v1 = int(input('Digite um numerador maior que zero:'))\n",
    "v2 = int(input('Digite um denominador maior que zero:'))\n",
    "print(v1/v2)"
   ]
  },
  {
   "cell_type": "markdown",
   "metadata": {
    "id": "zkUSBTQq8Hxt"
   },
   "source": [
    "#### Questão 6\n",
    "\n",
    "Crie um programa que solicite dois valores numéricos, um operador e uma potência, e realize a exponenciação entre esses dois valores.\n"
   ]
  },
  {
   "cell_type": "code",
   "execution_count": 66,
   "metadata": {
    "id": "RPj36jq08oZp"
   },
   "outputs": [
    {
     "name": "stdin",
     "output_type": "stream",
     "text": [
      "Digite um operador: 2\n",
      "Digite uma potência: 3\n"
     ]
    },
    {
     "name": "stdout",
     "output_type": "stream",
     "text": [
      "8\n"
     ]
    }
   ],
   "source": [
    "v1 = int(input('Digite um operador:'))\n",
    "v2 = int(input('Digite uma potência:'))\n",
    "print(v1**v2)"
   ]
  },
  {
   "cell_type": "markdown",
   "metadata": {
    "id": "yiunIusZ8Huj"
   },
   "source": [
    "#### Questão 7\n",
    "Crie um programa que solicite dois valores numéricos, um numerador e um denominador e realize a divisão inteira entre os dois valores. Deixe claro que o valor do denominador não pode ser `0`."
   ]
  },
  {
   "cell_type": "code",
   "execution_count": 70,
   "metadata": {
    "id": "UHK8xITf8oCg"
   },
   "outputs": [
    {
     "name": "stdin",
     "output_type": "stream",
     "text": [
      "Digite um numerador maior que zero: 10\n",
      "Digite um denominador maior que zero: 3\n"
     ]
    },
    {
     "name": "stdout",
     "output_type": "stream",
     "text": [
      "3\n"
     ]
    }
   ],
   "source": [
    "v1 = int(input('Digite um numerador maior que zero:'))\n",
    "v2 = int(input('Digite um denominador maior que zero:'))\n",
    "print(v1//v2)"
   ]
  },
  {
   "cell_type": "markdown",
   "metadata": {
    "id": "z_D_JiLX8Hra"
   },
   "source": [
    "#### Questão 8\n",
    "\n",
    "Crie um programa que solicite dois valores numéricos, um numerador e um denominador, e retorne o resto da divisão entre os dois valores. Deixe claro que o valor do denominador não pode ser `0`."
   ]
  },
  {
   "cell_type": "code",
   "execution_count": 72,
   "metadata": {
    "id": "EWGJeukO8nqx"
   },
   "outputs": [
    {
     "name": "stdin",
     "output_type": "stream",
     "text": [
      "Digite um numerador maior que zero: 10\n",
      "Digite um denominador maior que zero: 3\n"
     ]
    },
    {
     "name": "stdout",
     "output_type": "stream",
     "text": [
      "1\n"
     ]
    }
   ],
   "source": [
    "v1 = int(input('Digite um numerador maior que zero:'))\n",
    "v2 = int(input('Digite um denominador maior que zero:'))\n",
    "print(v1%v2)"
   ]
  },
  {
   "cell_type": "markdown",
   "metadata": {
    "id": "RDRajNkU8N8N"
   },
   "source": [
    "#### Questão 9\n",
    "\n",
    "Crie um código que solicita 3 notas de um estudante e imprima a média das notas."
   ]
  },
  {
   "cell_type": "code",
   "execution_count": 86,
   "metadata": {
    "id": "H6F4Ojzt8nSR"
   },
   "outputs": [
    {
     "name": "stdin",
     "output_type": "stream",
     "text": [
      "Digite a nota da p1: 8.5\n",
      "Digite a nota da p2: 9\n",
      "Digite a nota da p3: 9.8\n"
     ]
    },
    {
     "name": "stdout",
     "output_type": "stream",
     "text": [
      "A sua média das notas foi: 9.10\n"
     ]
    }
   ],
   "source": [
    "v1 = float(input('Digite a nota da p1:'))\n",
    "v2 = float(input('Digite a nota da p2:'))\n",
    "v3 = float(input('Digite a nota da p3:'))\n",
    "media = (v1+v2+v3)/3\n",
    "print('A sua média das notas foi: %.2f' %(media))"
   ]
  },
  {
   "cell_type": "markdown",
   "metadata": {
    "id": "d7fjkne58N21"
   },
   "source": [
    "#### Questão 10\n",
    "\n",
    "Crie um código que calcule e imprima a média ponderada dos números 5, 12, 20 e 15 com pesos respectivamente iguais a 1, 2, 3 e 4."
   ]
  },
  {
   "cell_type": "code",
   "execution_count": 88,
   "metadata": {
    "id": "fwjoHlV48mkv"
   },
   "outputs": [
    {
     "name": "stdout",
     "output_type": "stream",
     "text": [
      "A média ponderada é: 37.25\n"
     ]
    }
   ],
   "source": [
    "media_pon = ((5*1)+(12*2)+(20*3)+(15*4))/4\n",
    "print('A média ponderada é: %.2f' %(media_pon))"
   ]
  },
  {
   "cell_type": "markdown",
   "metadata": {
    "id": "GNmbX1OU8N0V"
   },
   "source": [
    "### Editando textos"
   ]
  },
  {
   "cell_type": "markdown",
   "metadata": {
    "id": "6wZ85mCsRCV0"
   },
   "source": [
    "#### Questão 1\n",
    "\n",
    "Crie uma variável chamada “`frase`” e atribua a ela uma string de sua escolha. Em seguida, imprima a frase na tela."
   ]
  },
  {
   "cell_type": "code",
   "execution_count": 26,
   "metadata": {
    "id": "eRqr_gh-8mFy"
   },
   "outputs": [
    {
     "name": "stdout",
     "output_type": "stream",
     "text": [
      "Fui ao mercado comprar café, e a formiguinha subiu no meu pé\n"
     ]
    }
   ],
   "source": [
    "frase = 'Fui ao mercado comprar café, e a formiguinha subiu no meu pé'\n",
    "print(frase)"
   ]
  },
  {
   "cell_type": "markdown",
   "metadata": {
    "id": "Aac17z-18Nwv"
   },
   "source": [
    "#### Questão 2\n",
    "Crie um código que solicite uma frase e depois imprima a frase na tela."
   ]
  },
  {
   "cell_type": "code",
   "execution_count": 28,
   "metadata": {
    "id": "8zfE2hh98lb0"
   },
   "outputs": [
    {
     "name": "stdin",
     "output_type": "stream",
     "text": [
      " Eu sacudi, sacudi, sacudi\n"
     ]
    },
    {
     "name": "stdout",
     "output_type": "stream",
     "text": [
      "Eu sacudi, sacudi, sacudi\n"
     ]
    }
   ],
   "source": [
    "frase2 = str(input())\n",
    "print(frase2)"
   ]
  },
  {
   "cell_type": "markdown",
   "metadata": {
    "id": "DXVzqpN58Ntr"
   },
   "source": [
    "#### Questão 3\n",
    "\n",
    "Crie um código que solicite uma frase à pessoa usuária e imprima a mesma frase digitada mas com todas as letras maiúsculas."
   ]
  },
  {
   "cell_type": "code",
   "execution_count": 30,
   "metadata": {
    "id": "d0VzoYP68k-I"
   },
   "outputs": [
    {
     "name": "stdin",
     "output_type": "stream",
     "text": [
      " Mas a formiguinha não parava de subir!\n"
     ]
    },
    {
     "name": "stdout",
     "output_type": "stream",
     "text": [
      "MAS A FORMIGUINHA NÃO PARAVA DE SUBIR!\n"
     ]
    }
   ],
   "source": [
    "frase3 = str(input())\n",
    "print(frase3.upper())"
   ]
  },
  {
   "cell_type": "markdown",
   "metadata": {
    "id": "I12VeNPK8Nqb"
   },
   "source": [
    "#### Questão 4\n",
    "\n",
    "Crie um código que solicite uma frase à pessoa usuária e imprima a mesma frase digitada mas com todas as letras minúsculas."
   ]
  },
  {
   "cell_type": "code",
   "execution_count": 32,
   "metadata": {
    "id": "KD8rNy2K8kox"
   },
   "outputs": [
    {
     "name": "stdin",
     "output_type": "stream",
     "text": [
      " Fui ao mercado comprar batata roxa, e a formiguinha subiu na minha coxa\n"
     ]
    },
    {
     "name": "stdout",
     "output_type": "stream",
     "text": [
      "fui ao mercado comprar batata roxa, e a formiguinha subiu na minha coxa\n"
     ]
    }
   ],
   "source": [
    "frase4 = str(input())\n",
    "print(frase4.lower())"
   ]
  },
  {
   "cell_type": "markdown",
   "metadata": {
    "id": "cRqngSE48Nog"
   },
   "source": [
    "#### Questão 5\n",
    "\n",
    "Crie uma variável chamada “`frase`” e atribua a ela uma string de sua escolha. Em seguida, imprima a frase sem espaços em branco no início e no fim."
   ]
  },
  {
   "cell_type": "code",
   "execution_count": 90,
   "metadata": {
    "id": "aSCpdF-o8kBs"
   },
   "outputs": [
    {
     "name": "stdout",
     "output_type": "stream",
     "text": [
      "Eu sacudi, sacudi, sacudi\n"
     ]
    }
   ],
   "source": [
    "frase5 = 'Eu sacudi, sacudi, sacudi'\n",
    "print(frase5.strip())"
   ]
  },
  {
   "cell_type": "markdown",
   "metadata": {
    "id": "murIazpQ8Nkv"
   },
   "source": [
    "#### Questão 6\n",
    "\n",
    "Crie um código que solicite uma frase à pessoa usuária e imprima a mesma frase sem espaços em branco no início e no fim."
   ]
  },
  {
   "cell_type": "code",
   "execution_count": 34,
   "metadata": {
    "id": "tHunjwuG8jNq"
   },
   "outputs": [
    {
     "name": "stdin",
     "output_type": "stream",
     "text": [
      " Mas a formiguinha não parava de subir!\n"
     ]
    },
    {
     "name": "stdout",
     "output_type": "stream",
     "text": [
      "Mas a formiguinha não parava de subir!\n"
     ]
    }
   ],
   "source": [
    "frase6 = str(input())\n",
    "print(frase6.strip())"
   ]
  },
  {
   "cell_type": "markdown",
   "metadata": {
    "id": "eRxc2OeX8Nh2"
   },
   "source": [
    "#### Questão 7\n",
    "\n",
    "\n",
    "Crie um código que solicite uma frase à pessoa usuária e imprima a mesma frase sem espaços em branco no início e no fim e em letras minúsculas."
   ]
  },
  {
   "cell_type": "code",
   "execution_count": 36,
   "metadata": {
    "id": "DYm0_UwS8ih6"
   },
   "outputs": [
    {
     "name": "stdin",
     "output_type": "stream",
     "text": [
      " Fui ao mercado comprar gerimum, e a formiguinha subiu no meu bumbum\n"
     ]
    },
    {
     "name": "stdout",
     "output_type": "stream",
     "text": [
      "fui ao mercado comprar gerimum, e a formiguinha subiu no meu bumbum\n"
     ]
    }
   ],
   "source": [
    "frase7 = str(input())\n",
    "print(frase7.strip().lower())"
   ]
  },
  {
   "cell_type": "markdown",
   "metadata": {
    "id": "UKATLavs8NfI"
   },
   "source": [
    "#### Questão 8\n",
    "\n",
    "Crie um código que solicite uma frase à pessoa usuária e imprima a mesma frase com todas as vogais “`e`” trocadas pela letra “`f`”."
   ]
  },
  {
   "cell_type": "code",
   "execution_count": 42,
   "metadata": {
    "id": "k64C5G5S8iLO"
   },
   "outputs": [
    {
     "name": "stdin",
     "output_type": "stream",
     "text": [
      " Eu sacudi, sacudi, sacudi!\n"
     ]
    },
    {
     "name": "stdout",
     "output_type": "stream",
     "text": [
      "fu sacudi, sacudi, sacudi!\n"
     ]
    }
   ],
   "source": [
    "frase8 = str(input())\n",
    "print(frase8.replace('E', 'f'))"
   ]
  },
  {
   "cell_type": "markdown",
   "metadata": {
    "id": "n_1SPchw8NdG"
   },
   "source": [
    "#### Questão 9\n",
    "\n",
    "\n",
    "Crie um código que solicite uma frase à pessoa usuária e imprima a mesma frase com todas as vogais “`a`” trocadas pela caractere  “`@`”."
   ]
  },
  {
   "cell_type": "code",
   "execution_count": 44,
   "metadata": {
    "id": "msaDNm_p8h0D"
   },
   "outputs": [
    {
     "name": "stdin",
     "output_type": "stream",
     "text": [
      " Mas a formiguinha não parava de subir!\n"
     ]
    },
    {
     "name": "stdout",
     "output_type": "stream",
     "text": [
      "M@s @ formiguinh@ não p@r@v@ de subir!\n"
     ]
    }
   ],
   "source": [
    "frase9 = str(input())\n",
    "print(frase9.replace('a', '@'))"
   ]
  },
  {
   "cell_type": "markdown",
   "metadata": {
    "id": "H3sTTjqI8Naa"
   },
   "source": [
    "#### Questão 10\n",
    "\n",
    "\n",
    "Crie um código que solicite uma frase à pessoa usuária e imprima a mesma frase com todas as consoantes “`s`” trocadas pelo caractere  “`$`”."
   ]
  },
  {
   "cell_type": "code",
   "execution_count": 46,
   "metadata": {
    "id": "RPBIsWT68e-1"
   },
   "outputs": [
    {
     "name": "stdin",
     "output_type": "stream",
     "text": [
      " Esta foi a música cantada de hoje! Nos siga para mais. <3\n"
     ]
    },
    {
     "name": "stdout",
     "output_type": "stream",
     "text": [
      "E$ta foi a mú$ica cantada de hoje! No$ $iga para mai$. <3\n"
     ]
    }
   ],
   "source": [
    "frase10 = str(input())\n",
    "print(frase10.replace('s', '$'))"
   ]
  },
  {
   "cell_type": "markdown",
   "metadata": {
    "id": "XGePe4GD2I59"
   },
   "source": [
    "## Aula 3 - Estruturas condicionais"
   ]
  },
  {
   "cell_type": "markdown",
   "metadata": {
    "id": "Pr9HTW0UHCdD"
   },
   "source": [
    "### Aquecendo na programação"
   ]
  },
  {
   "cell_type": "markdown",
   "metadata": {
    "id": "xBZHqhVg80Fy"
   },
   "source": [
    "#### Questão 1\n",
    "Escreva um programa que peça à pessoa usuária para fornecer dois números e exibir o número maior."
   ]
  },
  {
   "cell_type": "code",
   "execution_count": 7,
   "metadata": {
    "id": "GJlGnzjc-xyF"
   },
   "outputs": [
    {
     "name": "stdout",
     "output_type": "stream",
     "text": [
      "Digite dois números:\n"
     ]
    },
    {
     "name": "stdin",
     "output_type": "stream",
     "text": [
      " 10\n",
      " 8\n"
     ]
    },
    {
     "name": "stdout",
     "output_type": "stream",
     "text": [
      "O número 10 é maior\n"
     ]
    }
   ],
   "source": [
    "print('Digite dois números:')\n",
    "n1 = int(input())\n",
    "n2 = int(input())\n",
    "if n1 > n2:\n",
    "    print(f'O número {n1} é maior')\n",
    "elif n2 > n1:\n",
    "    print(f'O número {n2} é maior')\n",
    "else:\n",
    "    print('Os números são iguais')"
   ]
  },
  {
   "cell_type": "markdown",
   "metadata": {
    "id": "H4sgN7dyHNJF"
   },
   "source": [
    "#### Questão 2\n",
    "Escreva um programa que solicite o percentual de crescimento de produção de uma empresa e informe se houve um crescimento (porcentagem positiva) ou decrescimento (porcentagem negativa)."
   ]
  },
  {
   "cell_type": "code",
   "execution_count": 35,
   "metadata": {
    "id": "-2_Ry5XJ-yZW"
   },
   "outputs": [
    {
     "name": "stdout",
     "output_type": "stream",
     "text": [
      "Digite qual foi o crescimento da empresa em %:\n"
     ]
    },
    {
     "name": "stdin",
     "output_type": "stream",
     "text": [
      " 0\n"
     ]
    },
    {
     "name": "stdout",
     "output_type": "stream",
     "text": [
      "A empresa não teve variação na sua produção\n"
     ]
    }
   ],
   "source": [
    "print('Digite qual foi o crescimento da empresa em %:')\n",
    "n1 = float(input())\n",
    "if n1 > 0:\n",
    "    print(f'A emrpesa teve crescimento na sua produção')\n",
    "elif n1 < 0:\n",
    "    print(f'A emrpesa teve um decrescimo na sua produção')\n",
    "else:\n",
    "    print('A empresa não teve variação na sua produção')"
   ]
  },
  {
   "cell_type": "markdown",
   "metadata": {
    "id": "a_mzNOBDHNny"
   },
   "source": [
    "#### Questão 3\n",
    "Escreva um programa que determine se uma letra fornecida pela pessoa usuária é uma vogal ou consoante."
   ]
  },
  {
   "cell_type": "code",
   "execution_count": 31,
   "metadata": {
    "id": "NbgndVyg-zFJ"
   },
   "outputs": [
    {
     "name": "stdin",
     "output_type": "stream",
     "text": [
      "Digite uma letra: C\n"
     ]
    },
    {
     "name": "stdout",
     "output_type": "stream",
     "text": [
      "Está letra c é uma consoante\n"
     ]
    }
   ],
   "source": [
    "v = ('a, e, i, o, u')\n",
    "l = str(input('Digite uma letra:').lower())\n",
    "if l in v:\n",
    "    print(f'Está letra {l} é uma vogal')\n",
    "else:\n",
    "    print(f'Está letra {l} é uma consoante')"
   ]
  },
  {
   "cell_type": "markdown",
   "metadata": {
    "id": "mofMRjSZHP99"
   },
   "source": [
    "#### Questão 4\n",
    "Escreva um programa que leia valores médios de preços de um modelo de carro por 3 anos consecutivos e exiba o valor mais alto e mais baixo entre esses três anos."
   ]
  },
  {
   "cell_type": "code",
   "execution_count": 41,
   "metadata": {
    "id": "TX--d3k9-02c"
   },
   "outputs": [
    {
     "name": "stdin",
     "output_type": "stream",
     "text": [
      "Digite o valor do carro no 1º ano: 50000\n",
      "Digite o valor do carro no 2º ano: 48500\n",
      "Digite o valor do carro no 3º ano: 49220\n"
     ]
    },
    {
     "name": "stdout",
     "output_type": "stream",
     "text": [
      "O maior valor é: 50000.0\n",
      "O menor valor é: 48500.0\n"
     ]
    }
   ],
   "source": [
    "v1 = float(input(f'Digite o valor do carro no 1º ano:'))\n",
    "v2 = float(input(f'Digite o valor do carro no 2º ano:'))\n",
    "v3 = float(input(f'Digite o valor do carro no 3º ano:'))\n",
    "\n",
    "maior = v1\n",
    "if v2 > maior:\n",
    "    maior = v2\n",
    "if v3 > maior:\n",
    "    maior = v3\n",
    "\n",
    "menor = v1\n",
    "if v2 < menor:\n",
    "    menor = v2\n",
    "if v3 < menor:\n",
    "    menor = v3\n",
    "\n",
    "print(f'O maior valor é: {maior}')\n",
    "print(f'O menor valor é: {menor}')"
   ]
  },
  {
   "cell_type": "markdown",
   "metadata": {
    "id": "jY5tIwd-HQzc"
   },
   "source": [
    "#### Questão 5\n",
    "Escreva um programa que pergunte sobre o preço de três produtos e indique qual é o produto mais barato para comprar."
   ]
  },
  {
   "cell_type": "code",
   "execution_count": 45,
   "metadata": {
    "id": "sYqNh9df-0gk"
   },
   "outputs": [
    {
     "name": "stdin",
     "output_type": "stream",
     "text": [
      "Digite o valor do 1º produto: 8\n",
      "Digite o valor do 2º produto: 10\n",
      "Digite o valor do 3º produto: 9\n"
     ]
    },
    {
     "name": "stdout",
     "output_type": "stream",
     "text": [
      "Você deve comprar o produto que custa: R$8.0\n"
     ]
    }
   ],
   "source": [
    "v1 = float(input(f'Digite o valor do 1º produto:'))\n",
    "v2 = float(input(f'Digite o valor do 2º produto:'))\n",
    "v3 = float(input(f'Digite o valor do 3º produto:'))\n",
    "\n",
    "menor = v1\n",
    "if v2 < menor:\n",
    "    menor = v2\n",
    "if v3 < menor:\n",
    "    menor = v3\n",
    "\n",
    "print(f'Você deve comprar o produto que custa: R${menor}')"
   ]
  },
  {
   "cell_type": "markdown",
   "metadata": {
    "id": "1r6aVxtTHR4E"
   },
   "source": [
    "#### Questão 6\n",
    "Escreva um programa que leia três números e os exiba em ordem decrescente."
   ]
  },
  {
   "cell_type": "code",
   "execution_count": 89,
   "metadata": {
    "id": "ydOCYUMO-0Hk"
   },
   "outputs": [
    {
     "data": {
      "text/plain": [
       "0.10000000000000009"
      ]
     },
     "execution_count": 89,
     "metadata": {},
     "output_type": "execute_result"
    }
   ],
   "source": []
  },
  {
   "cell_type": "markdown",
   "metadata": {
    "id": "inW3F-hAHS_X"
   },
   "source": [
    "#### Questão 7\n",
    "Escreva um programa que pergunte em qual turno a pessoa usuária estuda (\"manhã\", \"tarde\" ou \"noite\") e exiba a mensagem \"Bom Dia!\", \"Boa Tarde!\", \"Boa Noite!\", ou \"Valor Inválido!\", conforme o caso."
   ]
  },
  {
   "cell_type": "code",
   "execution_count": 53,
   "metadata": {
    "id": "-_q-Pcr_-zth"
   },
   "outputs": [
    {
     "name": "stdin",
     "output_type": "stream",
     "text": [
      "Diga em qual turno trabalha: Manhã, Tarde ou Noite? manhanoite\n"
     ]
    },
    {
     "name": "stdout",
     "output_type": "stream",
     "text": [
      "Horário Inválido!\n"
     ]
    }
   ],
   "source": [
    "turno = str(input('Diga em qual turno trabalha: Manhã, Tarde ou Noite?').lower())\n",
    "\n",
    "if turno == 'manhã':\n",
    "    print('Bom dia')\n",
    "elif turno == 'tarde':\n",
    "    print('Boa tarde!')\n",
    "elif turno == 'noite':\n",
    "    print('Boa noite!')\n",
    "else:\n",
    "    print('Horário Inválido!')"
   ]
  },
  {
   "cell_type": "markdown",
   "metadata": {
    "id": "NCCPF3QqHTw-"
   },
   "source": [
    "#### Questão 8\n",
    "Escreva um programa que peça um número inteiro à pessoa usuária e determine se ele é par ou ímpar. Dica: Você pode utilizar o operador módulo `%`."
   ]
  },
  {
   "cell_type": "code",
   "execution_count": 75,
   "metadata": {
    "id": "OmZJt1nQ-3e6"
   },
   "outputs": [
    {
     "name": "stdin",
     "output_type": "stream",
     "text": [
      "Digite um número inteiro: 356898524\n"
     ]
    },
    {
     "name": "stdout",
     "output_type": "stream",
     "text": [
      "O número é par\n"
     ]
    }
   ],
   "source": [
    "n = int(input('Digite um número inteiro:'))\n",
    "if (n%2==0):\n",
    "    print('O número é par')\n",
    "else:\n",
    "    print('O número é impar')"
   ]
  },
  {
   "cell_type": "markdown",
   "metadata": {
    "id": "h93Ck1tQHUwE"
   },
   "source": [
    "#### Questão 9\n",
    "Escreva um programa que peça um número à pessoa usuária e informe se ele é inteiro ou decimal."
   ]
  },
  {
   "cell_type": "code",
   "execution_count": 83,
   "metadata": {
    "id": "sLMlZcx8-20N"
   },
   "outputs": [
    {
     "name": "stdin",
     "output_type": "stream",
     "text": [
      "Digite um número:  10.5\n"
     ]
    },
    {
     "name": "stdout",
     "output_type": "stream",
     "text": [
      "O número é decimal.\n"
     ]
    }
   ],
   "source": [
    "n = float(input('Digite um número: '))\n",
    "if n % 1 == 0:\n",
    "    print('O número é inteiro.')\n",
    "else:\n",
    "    print('O número é decimal.')"
   ]
  },
  {
   "cell_type": "markdown",
   "metadata": {
    "id": "bKdXSK1SH_pF"
   },
   "source": [
    "### Momento dos projetos"
   ]
  },
  {
   "cell_type": "markdown",
   "metadata": {
    "id": "WBlEyyzsHV86"
   },
   "source": [
    "#### Questão 10\n",
    "Um programa deve ser escrito para ler dois números e, em seguida, perguntar à pessoa usuária qual operação ele deseja realizar. O resultado da operação deve incluir informações sobre o número - se é par ou ímpar, positivo ou negativo e inteiro ou decimal."
   ]
  },
  {
   "cell_type": "code",
   "execution_count": null,
   "metadata": {
    "id": "3jmahZ0f-2gq"
   },
   "outputs": [],
   "source": []
  },
  {
   "cell_type": "markdown",
   "metadata": {
    "id": "VdnlULxHHW19"
   },
   "source": [
    "#### Questão 11\n",
    "Escreva um programa que peça à pessoa usuária três números que representam os lados de um triângulo. O programa deve informar se os valores podem ser utilizados para formar um triângulo e, caso afirmativo, se ele é equilátero, isósceles ou escaleno. Tenha em mente algumas dicas:\n",
    "- Três lados formam um triângulo quando a soma de quaisquer dois lados for maior que o terceiro;\n",
    "- Triângulo Equilátero: três lados iguais;\n",
    "- Triângulo Isósceles: quaisquer dois lados iguais;\n",
    "- Triângulo Escaleno: três lados diferentes;\n"
   ]
  },
  {
   "cell_type": "code",
   "execution_count": 91,
   "metadata": {
    "id": "0z73sqUO-2Pw"
   },
   "outputs": [
    {
     "name": "stdout",
     "output_type": "stream",
     "text": [
      "Coletaremos os lados de um triângulo.\n"
     ]
    },
    {
     "name": "stdin",
     "output_type": "stream",
     "text": [
      "Digite o comprimento do primeiro lado:  4\n",
      "Digite o comprimento do segundo lado:  5\n",
      "Digite o comprimento do terceiro lado:  3\n"
     ]
    },
    {
     "name": "stdout",
     "output_type": "stream",
     "text": [
      "Os valores podem formar um triângulo!\n",
      "O triângulo é escaleno.\n"
     ]
    }
   ],
   "source": [
    "# Coletamos os lados de um triângulo\n",
    "print('Coletaremos os lados de um triângulo.')\n",
    "lado1 = float(input('Digite o comprimento do primeiro lado: '))\n",
    "lado2 = float(input('Digite o comprimento do segundo lado: '))\n",
    "lado3 = float(input('Digite o comprimento do terceiro lado: '))\n",
    "\n",
    "# Verificamos de os lados formam um triângulo\n",
    "if (lado1 + lado2 > lado3) and (lado2 + lado3 > lado1) and (lado1 + lado3 > lado2):\n",
    "    print('Os valores podem formar um triângulo!')\n",
    "    # comparamos os lados para verificar o tipo de triângulo\n",
    "    if (lado1 == lado2) and (lado2 == lado3):\n",
    "        print('O triângulo é equilátero.')\n",
    "    elif (lado1 != lado2) and (lado2 != lado3) and (lado1 != lado3):\n",
    "        print('O triângulo é escaleno.')\n",
    "    else:\n",
    "        print('O triângulo é isósceles.')\n",
    "else:\n",
    "    print('Os valores não podem formar um triângulo!')"
   ]
  },
  {
   "cell_type": "markdown",
   "metadata": {
    "id": "_PpEpOugHXwZ"
   },
   "source": [
    "#### Questão 12\n",
    "Um estabelecimento está vendendo combustíveis com descontos variados. Para o etanol, se a quantidade comprada for até 15 litros, o desconto será de 2% por litro. Caso contrário, será de 4% por litro. Para o diesel, se a quantidade comprada for até 15 litros, o desconto será de 3% por litro. Caso contrário, será de 5% por litro. O preço do litro de diesel é R\\$ 2,00 e o preço do litro de etanol é R\\$ 1,70. Escreva um programa que leia a quantidade de litros vendidos e o tipo de combustível (E para etanol e D para diesel) e calcule o valor a ser pago pelo cliente. Tenha em mente algumas dicas:\n",
    "\n",
    "- O do valor do desconto será a multiplicação entre preço do litro, quantidade de litros e o valor do desconto.\n",
    "- O valor a ser pago por um cliente será o resultado da multiplicação do preço do litro pela quantidade de litros menos o valor de desconto resultante do cálculo.\n"
   ]
  },
  {
   "cell_type": "code",
   "execution_count": null,
   "metadata": {
    "id": "9izoF-0O-1yD"
   },
   "outputs": [],
   "source": [
    "# Coletamos a quantidade de litros e o tipo de combustível,\n",
    "# já deixando o caractere em maiúsculo para facilitar nossa análise\n",
    "quantidade_litros = float(input('Informe a quantidade de litros vendidos: '))\n",
    "tipo_combustivel = input('Informe o tipo de combustível (E para etanol e D para diesel): ').upper()\n",
    "\n",
    "#  Verificamos primeiro o tipo de combustível\n",
    "if tipo_combustivel == 'E':\n",
    "  # Taxamos o valor do preço em litros do etanol\n",
    "  preco_litro = 1.70\n",
    "  # De acordo com o valor da quantidade de litros, taxamos também o desconto\n",
    "  if quantidade_litros <= 15:\n",
    "    desconto = 0.02\n",
    "  else:\n",
    "    desconto = 0.04\n",
    "elif tipo_combustivel == 'D':\n",
    "  # Taxamos o valor do preço em litros do disel\n",
    "  preco_litro = 2.00\n",
    "  # De acordo com o valor da quantidade de litros, taxamos também o desconto\n",
    "  if quantidade_litros <= 15:\n",
    "    desconto = 0.03\n",
    "  else:\n",
    "    desconto = 0.05\n",
    "# Caso ocorra um erro na especificação de tipo de combustível,\n",
    "# consideramos entradas inválidas, e os preços são taxados em 0\n",
    "else:\n",
    "    print('Entradas inválidas!')\n",
    "    preco_litro = 0\n",
    "    desconto = 0\n",
    "\n",
    "# Fazemos o cálculo do valor de desconto, seguido do cálculo do preço descontado\n",
    "valor_desconto = preco_litro * quantidade_litros * desconto\n",
    "valor_pago = preco_litro * quantidade_litros - valor_desconto\n",
    "\n",
    "# Resultado\n",
    "print(f'Valor a ser pago pelo cliente: R$ {valor_pago}')"
   ]
  },
  {
   "cell_type": "markdown",
   "metadata": {
    "id": "s_XS_D1WHY2R"
   },
   "source": [
    "#### Questão 13\n",
    "Em uma empresa de venda de imóveis você precisa criar um código que analise os dados de vendas anuais para ajudar a diretoria na tomada de decisão. O código precisa coletar os dados de quantidade de venda durante os anos de 2022 e 2023 e fazer um cálculo de variação percentual. A partir do valor da variação, deve ser enviada às seguintes sugestões:\n",
    "- Para variação acima de 20%: bonificação para o time de vendas.\n",
    "- Para variação entre 2% e 20%: pequena bonificação para time de vendas.\n",
    "- Para variação entre 2% e -10%: planejamento de políticas de incentivo às vendas.\n",
    "- Para bonificações abaixo de -10%: corte de gastos.\n"
   ]
  },
  {
   "cell_type": "code",
   "execution_count": 187,
   "metadata": {
    "id": "avQrYlUg-w8f"
   },
   "outputs": [
    {
     "name": "stdin",
     "output_type": "stream",
     "text": [
      "Informe a quantidade de vendas em 2022:  200\n",
      "Informe a quantidade de vendas em 2023:  150\n"
     ]
    },
    {
     "name": "stdout",
     "output_type": "stream",
     "text": [
      "Corte de gastos.\n"
     ]
    }
   ],
   "source": [
    "# Coletamos as vendas dos dois anos\n",
    "venda_2022 = float(input('Informe a quantidade de vendas em 2022: '))\n",
    "venda_2023 = float(input('Informe a quantidade de vendas em 2023: '))\n",
    "\n",
    "# Calculamos a variação percentual entre as vendas dos anos de 2022 e 2023\n",
    "var_percentual = 100 * (venda_2023 - venda_2022) / (venda_2022)\n",
    "\n",
    "# Análise condicional da variação percentual para determinar a sugestão a ser enviada\n",
    "if var_percentual > 20:\n",
    "    print('Bonificação para o time de vendas.')\n",
    "elif 2 <= var_percentual <= 20:\n",
    "    print('Pequena bonificação para time de vendas.')\n",
    "elif -10 <= var_percentual < 2:\n",
    "    print('Planejamento de políticas de incentivo às vendas.')\n",
    "else:\n",
    "    print('Corte de gastos.')"
   ]
  },
  {
   "cell_type": "markdown",
   "metadata": {
    "id": "AuaWh4-d2Itt"
   },
   "source": [
    "## Aula 4 - Estruturas de repetição"
   ]
  },
  {
   "cell_type": "markdown",
   "metadata": {
    "id": "6MSqU0sIJRdD"
   },
   "source": [
    "### Aquecendo na programação"
   ]
  },
  {
   "cell_type": "markdown",
   "metadata": {
    "id": "9eGGyCnAJRdQ"
   },
   "source": [
    "#### Questão 1\n",
    "Escreva um programa que peça dois números inteiros e imprima todos os números inteiros entre eles."
   ]
  },
  {
   "cell_type": "code",
   "execution_count": 189,
   "metadata": {
    "id": "ID1oc1hxJRdQ"
   },
   "outputs": [
    {
     "name": "stdin",
     "output_type": "stream",
     "text": [
      "Insira o primeiro número inteiro:  1\n",
      "Insira o segundo número inteiro:  20\n"
     ]
    },
    {
     "name": "stdout",
     "output_type": "stream",
     "text": [
      "2\n",
      "3\n",
      "4\n",
      "5\n",
      "6\n",
      "7\n",
      "8\n",
      "9\n",
      "10\n",
      "11\n",
      "12\n",
      "13\n",
      "14\n",
      "15\n",
      "16\n",
      "17\n",
      "18\n",
      "19\n"
     ]
    }
   ],
   "source": [
    "inicio = int(input('Insira o primeiro número inteiro: '))\n",
    "fim = int(input('Insira o segundo número inteiro: '))\n",
    "\n",
    "if inicio < fim:\n",
    "  for i in range(inicio + 1, fim): \n",
    "    print(i)\n",
    "elif inicio > fim:\n",
    "  for i in range(fim + 1, inicio):\n",
    "    print(i)\n",
    "else:\n",
    "  print('Os números são iguais.')"
   ]
  },
  {
   "cell_type": "markdown",
   "metadata": {
    "id": "mGonEHYCJRdR"
   },
   "source": [
    "#### Questão 2\n",
    "Escreva um programa para calcular quantos dias levará para a colônia de uma bactéria A ultrapassar ou igualar a colônia de uma bactéria B, com base nas taxas de crescimento de 3% e 1,5% respectivamente. Considere que a colônia A inicia com 4 elementos e a colônia B com 10 elementos."
   ]
  },
  {
   "cell_type": "code",
   "execution_count": 191,
   "metadata": {
    "id": "wM6FJuoqJRdR"
   },
   "outputs": [
    {
     "name": "stdout",
     "output_type": "stream",
     "text": [
      " Irá levar 63 dias para a Colônia A ser maior que a Colônia B\n"
     ]
    }
   ],
   "source": [
    "col_a = 4\n",
    "col_b = 10\n",
    "dias = 0\n",
    "\n",
    "while col_a <= col_b:\n",
    "    col_a = (col_a*1.03)\n",
    "    col_b = (col_b*1.015)\n",
    "    dias +=1\n",
    "print(f' Irá levar {dias} dias para a Colônia A ser maior que a Colônia B')"
   ]
  },
  {
   "cell_type": "markdown",
   "metadata": {
    "id": "UiOZRlqoJRdR"
   },
   "source": [
    "#### Questão 3\n",
    "Para tratar uma quantidade de 15 dados de avaliações de pessoas usuárias de um serviço da empresa, precisamos verificar se as notas são válidas. Então, escreva um programa que vai receber a nota de 0 a 5 de todos os dados e verificar se é um valor válido. Caso seja inserido uma nota acima de 5 ou abaixo de 0, repita até que a pessoa usuária insira um valor válido."
   ]
  },
  {
   "cell_type": "code",
   "execution_count": 4,
   "metadata": {
    "id": "3TUAhCxcJRdR"
   },
   "outputs": [
    {
     "name": "stdin",
     "output_type": "stream",
     "text": [
      "Insira a nota da pessoa usuária 0:  10\n",
      "Nota inválida, insira novamente a nota da pessoa usuária 0:  \n"
     ]
    },
    {
     "ename": "ValueError",
     "evalue": "could not convert string to float: ''",
     "output_type": "error",
     "traceback": [
      "\u001b[1;31m---------------------------------------------------------------------------\u001b[0m",
      "\u001b[1;31mValueError\u001b[0m                                Traceback (most recent call last)",
      "Cell \u001b[1;32mIn[4], line 8\u001b[0m\n\u001b[0;32m      5\u001b[0m   \u001b[38;5;66;03m# verifica se a nota está entre 0 e 5\u001b[39;00m\n\u001b[0;32m      6\u001b[0m   \u001b[38;5;66;03m# se estiver, o laço rodará ininterruptamente até ser obtido um valor válido\u001b[39;00m\n\u001b[0;32m      7\u001b[0m   \u001b[38;5;28;01mwhile\u001b[39;00m (nota \u001b[38;5;241m<\u001b[39m \u001b[38;5;241m0\u001b[39m) \u001b[38;5;129;01mor\u001b[39;00m (nota \u001b[38;5;241m>\u001b[39m \u001b[38;5;241m5\u001b[39m):\n\u001b[1;32m----> 8\u001b[0m     nota \u001b[38;5;241m=\u001b[39m \u001b[38;5;28mfloat\u001b[39m(\u001b[38;5;28minput\u001b[39m(\u001b[38;5;124mf\u001b[39m\u001b[38;5;124m'\u001b[39m\u001b[38;5;124mNota inválida, insira novamente a nota da pessoa usuária \u001b[39m\u001b[38;5;132;01m{\u001b[39;00mi\u001b[38;5;132;01m}\u001b[39;00m\u001b[38;5;124m: \u001b[39m\u001b[38;5;124m'\u001b[39m))\n\u001b[0;32m     10\u001b[0m \u001b[38;5;28mprint\u001b[39m(\u001b[38;5;124m'\u001b[39m\u001b[38;5;124mVerificação feita. Todas as notas são válidas\u001b[39m\u001b[38;5;124m'\u001b[39m)\n",
      "\u001b[1;31mValueError\u001b[0m: could not convert string to float: ''"
     ]
    }
   ],
   "source": [
    "# laço para pegar as 15 notas\n",
    "for i in range(15):\n",
    "  nota = float(input(f'Insira a nota da pessoa usuária {i}: '))\n",
    "\n",
    "  # verifica se a nota está entre 0 e 5\n",
    "  # se estiver, o laço rodará ininterruptamente até ser obtido um valor válido\n",
    "  while (nota < 0) or (nota > 5):\n",
    "    nota = float(input(f'Nota inválida, insira novamente a nota da pessoa usuária {i}: '))\n",
    "\n",
    "print('Verificação feita. Todas as notas são válidas')"
   ]
  },
  {
   "cell_type": "markdown",
   "metadata": {
    "id": "ABv3KObGJRdR"
   },
   "source": [
    "#### Questão 4\n",
    "Desenvolva um programa que leia um conjunto indeterminado de temperaturas em Celsius e faça uma análise. Portanto, escreva um programa que leia temperaturas e informe a média delas. A leitura deve ser encerrada ao ser enviado o valor -273°C."
   ]
  },
  {
   "cell_type": "code",
   "execution_count": 11,
   "metadata": {
    "id": "85tBBj5KJRdS"
   },
   "outputs": [
    {
     "name": "stdin",
     "output_type": "stream",
     "text": [
      "Digite uma temperatura em Cº: 10\n",
      "Digite uma temperatura em Cº: 50\n",
      "Digite uma temperatura em Cº: 36\n",
      "Digite uma temperatura em Cº: 48\n",
      "Digite uma temperatura em Cº: 37.2\n",
      "Digite uma temperatura em Cº: -1\n",
      "Digite uma temperatura em Cº: -50\n",
      "Digite uma temperatura em Cº: -273\n"
     ]
    },
    {
     "name": "stdout",
     "output_type": "stream",
     "text": [
      "A média de temperaturas é 18.599999999999998\n"
     ]
    }
   ],
   "source": [
    "temperatura = float(input('Digite uma temperatura em Cº:'))\n",
    "conjunto = 0\n",
    "soma = 0\n",
    "\n",
    "while temperatura != -273:\n",
    "    soma += temperatura\n",
    "    conjunto += 1\n",
    "    temperatura = float(input('Digite uma temperatura em Cº:'))\n",
    "\n",
    "media = soma/conjunto\n",
    "\n",
    "print(f'A média de temperaturas é {media}')"
   ]
  },
  {
   "cell_type": "markdown",
   "metadata": {
    "id": "IjkbAfGcJRdS"
   },
   "source": [
    "#### Questão 5\n",
    "Escreva um programa que calcule o fatorial de um número inteiro fornecido pela pessoa usuária. O fatorial de um número inteiro é a multiplicação desse número por todos os seus antecessores até o número 1. Por exemplo, o fatorial de 5 é 5 x 4 x 3 x 2 x 1 = 120."
   ]
  },
  {
   "cell_type": "code",
   "execution_count": 19,
   "metadata": {
    "id": "7RTH8o0HJRdS"
   },
   "outputs": [
    {
     "name": "stdin",
     "output_type": "stream",
     "text": [
      "Digite um número inteiro: 10\n"
     ]
    },
    {
     "name": "stdout",
     "output_type": "stream",
     "text": [
      "O fatorial do número 10 é: 3628800\n"
     ]
    }
   ],
   "source": [
    "num = int(input('Digite um número inteiro:'))\n",
    "f = 1\n",
    "i = num\n",
    "\n",
    "while i > 0:\n",
    "    f *= i\n",
    "    i -= 1\n",
    "\n",
    "print(f'O fatorial do número {num} é: {f}')"
   ]
  },
  {
   "cell_type": "markdown",
   "metadata": {
    "id": "oGNKuQjsJRdT"
   },
   "source": [
    "### Momento dos projetos"
   ]
  },
  {
   "cell_type": "markdown",
   "metadata": {
    "id": "ODxaTUYmJRdS"
   },
   "source": [
    "#### Questão 6\n",
    "Escreva um programa que gere a tabuada de um número inteiro de 1 a 10, de acordo com a escolha da pessoa usuária. Como exemplo, para o número 2, a tabuada deve ser mostrada no seguinte formato:\n",
    "```\n",
    "Tabuada do 2:\n",
    "2 x 1 = 2\n",
    "2 x 2 = 4\n",
    "[...]\n",
    "2 x 10 = 20\n",
    "```"
   ]
  },
  {
   "cell_type": "code",
   "execution_count": 29,
   "metadata": {
    "id": "lkTlbxPIJRdS"
   },
   "outputs": [
    {
     "name": "stdin",
     "output_type": "stream",
     "text": [
      "Digite um número inteiro de 1 a 10: 5\n"
     ]
    },
    {
     "name": "stdout",
     "output_type": "stream",
     "text": [
      "5 x 1 = 5\n",
      "5 x 2 = 10\n",
      "5 x 3 = 15\n",
      "5 x 4 = 20\n",
      "5 x 5 = 25\n",
      "5 x 6 = 30\n",
      "5 x 7 = 35\n",
      "5 x 8 = 40\n",
      "5 x 9 = 45\n",
      "5 x 10 = 50\n"
     ]
    }
   ],
   "source": [
    "n = int(input('Digite um número inteiro de 1 a 10:'))\n",
    "\n",
    "if (n>0) and (n<=10):\n",
    "    for m in range(1, 11):\n",
    "        print(f'{n} x {m} = {n*m}')\n",
    "else:\n",
    "    print('O número inserido não é válido')"
   ]
  },
  {
   "cell_type": "markdown",
   "metadata": {
    "id": "LeIbnt8VJRdS"
   },
   "source": [
    "#### Questão 7\n",
    "Os números primos possuem várias aplicações dentro da Ciência de Dados, por exemplo, na criptografia e segurança. Um número primo é aquele que é divisível apenas por um e por ele mesmo. Faça um programa que peça um número inteiro e determine se ele é ou não um número primo."
   ]
  },
  {
   "cell_type": "code",
   "execution_count": 48,
   "metadata": {
    "id": "2rcNU7twJRdS"
   },
   "outputs": [
    {
     "name": "stdin",
     "output_type": "stream",
     "text": [
      "Digite o número:  9\n"
     ]
    },
    {
     "name": "stdout",
     "output_type": "stream",
     "text": [
      "O número 9 não é primo\n"
     ]
    }
   ],
   "source": [
    "# Solicitamos o número\n",
    "num = int(input(\"Digite o número: \"))\n",
    "\n",
    "# Assumimos que o número é primo até que se prove o contrário\n",
    "eh_primo = True\n",
    "\n",
    "# Números abaixo de 2 não são primos\n",
    "if num <= 1 :\n",
    "  eh_primo = False\n",
    "else:\n",
    "    for i in range(2, num):\n",
    "        # Se o número for divisível por qualquer número dentro deste intervalo,\n",
    "        # ele não é primo, portanto, mudamos a variável 'eh_primo' para False e saímos do loop.\n",
    "        if num % i == 0:\n",
    "            eh_primo = False\n",
    "            break\n",
    "  \n",
    "# Verifica se 'eh_primo' ainda é True, o que significa que o número passou pelo loop\n",
    "# sem ser divisível por nenhum número além de 1 e ele mesmo.\n",
    "if eh_primo:\n",
    "    # Se for o caso, o número é primo.\n",
    "    print(f'O número {num} é primo')\n",
    "else:\n",
    "    # Caso contrário, o número não é primo.\n",
    "    print(f'O número {num} não é primo')"
   ]
  },
  {
   "cell_type": "markdown",
   "metadata": {
    "id": "QTwb6QaCJRdT"
   },
   "source": [
    "#### Questão 8\n",
    "Vamos entender a distribuição de idades de pensionistas de uma empresa de previdência. Escreva um programa que leia as idades de uma quantidade não informada de clientes e mostre a distribuição em intervalos de [0-25], [26-50], [51-75] e [76-100]. Encerre a entrada de dados com um número negativo."
   ]
  },
  {
   "cell_type": "code",
   "execution_count": 44,
   "metadata": {
    "id": "4IAhaDmYJRdT"
   },
   "outputs": [
    {
     "name": "stdin",
     "output_type": "stream",
     "text": [
      "Digite a sua idade: 1\n",
      "Digite a sua idade: 10\n",
      "Digite a sua idade: 20\n",
      "Digite a sua idade: 30\n",
      "Digite a sua idade: 40\n",
      "Digite a sua idade: 50\n",
      "Digite a sua idade: 60\n",
      "Digite a sua idade: 70\n",
      "Digite a sua idade: 80\n",
      "Digite a sua idade: 90\n",
      "Digite a sua idade: 100\n",
      "Digite a sua idade: 101\n"
     ]
    },
    {
     "name": "stdout",
     "output_type": "stream",
     "text": [
      "Idade inválida\n"
     ]
    },
    {
     "name": "stdin",
     "output_type": "stream",
     "text": [
      "Digite a sua idade: -1\n"
     ]
    },
    {
     "name": "stdout",
     "output_type": "stream",
     "text": [
      "A quantidade de clientes com idade entre 0 e 25 anos é:3\n",
      "A quantidade de clientes com idade entre 26 e 50 anos é:3\n",
      "A quantidade de clientes com idade entre 51 e 75 anos é:2\n",
      "A quantidade de clientes com idade entre 76 e 100 anos é:3\n"
     ]
    }
   ],
   "source": [
    "inter_0_25 = 0\n",
    "inter_26_50 = 0\n",
    "inter_51_75 = 0\n",
    "inter_76_100 = 0\n",
    "\n",
    "idade = int(input('Digite a sua idade:'))\n",
    "while idade >= 0:\n",
    "    if idade < 26:\n",
    "        inter_0_25 += 1\n",
    "    elif idade < 51:\n",
    "        inter_26_50 += 1\n",
    "    elif idade < 76:\n",
    "        inter_51_75 += 1\n",
    "    elif idade <= 100:\n",
    "        inter_76_100 += 1\n",
    "    else:\n",
    "        print('Idade inválida')\n",
    "    idade = int(input('Digite a sua idade:'))\n",
    "\n",
    "print(f'A quantidade de clientes com idade entre 0 e 25 anos é:{inter_0_25}')\n",
    "print(f'A quantidade de clientes com idade entre 26 e 50 anos é:{inter_26_50}')\n",
    "print(f'A quantidade de clientes com idade entre 51 e 75 anos é:{inter_51_75}')\n",
    "print(f'A quantidade de clientes com idade entre 76 e 100 anos é:{inter_76_100}')"
   ]
  },
  {
   "cell_type": "markdown",
   "metadata": {
    "id": "soJCQVwRJRdT"
   },
   "source": [
    "#### Questão 9\n",
    "Em uma eleição para gerência em uma empresa com 20 funcionários, existem quatro candidatos. Escreva um programa que calcule o vencedor da eleição. A votação ocorreu da seguinte maneira:\n",
    "- Cada funcionário votou em um dos quatro candidatos (representados pelos números 1, 2, 3 e 4).\n",
    "- Também foram contabilizados os votos nulos (representado pelo número 5) e os votos em branco (representado pelo número 6).\n",
    "\n",
    "Ao final da votação, o programa deve exibir o total de votos para cada candidato, o número de votos nulos e o número de votos em branco. Além disso, deve calcular e exibir a porcentagem de votos nulos em relação ao total de votos e a porcentagem de votos em branco em relação ao total de votos."
   ]
  },
  {
   "cell_type": "code",
   "execution_count": 34,
   "metadata": {
    "id": "041EFrgG-4gR"
   },
   "outputs": [
    {
     "name": "stdin",
     "output_type": "stream",
     "text": [
      "Informe seu voto:  4\n",
      "Informe seu voto:  5\n",
      "Informe seu voto:  1\n",
      "Informe seu voto:  2\n",
      "Informe seu voto:  34\n"
     ]
    },
    {
     "name": "stdout",
     "output_type": "stream",
     "text": [
      "Voto inválido.\n"
     ]
    },
    {
     "name": "stdin",
     "output_type": "stream",
     "text": [
      "Informe seu voto:  3\n",
      "Informe seu voto:  5\n",
      "Informe seu voto:  4\n",
      "Informe seu voto:  6\n",
      "Informe seu voto:  8\n"
     ]
    },
    {
     "name": "stdout",
     "output_type": "stream",
     "text": [
      "Voto inválido.\n"
     ]
    },
    {
     "name": "stdin",
     "output_type": "stream",
     "text": [
      "Informe seu voto:  1\n",
      "Informe seu voto:  2\n",
      "Informe seu voto:  3\n",
      "Informe seu voto:  45\n"
     ]
    },
    {
     "name": "stdout",
     "output_type": "stream",
     "text": [
      "Voto inválido.\n"
     ]
    },
    {
     "name": "stdin",
     "output_type": "stream",
     "text": [
      "Informe seu voto:  5\n",
      "Informe seu voto:  6\n",
      "Informe seu voto:  4\n",
      "Informe seu voto:  2\n",
      "Informe seu voto:  3\n",
      "Informe seu voto:  1\n"
     ]
    },
    {
     "name": "stdout",
     "output_type": "stream",
     "text": [
      "Votos candidato 1: 3\n",
      "Votos candidato 2: 3\n",
      "Votos candidato 3: 3\n",
      "Votos candidato 4: 3\n",
      "Votos nulos: 3\n",
      "Votos em branco: 2\n",
      "Percentual de votos nulos: 15.0\n",
      "Percentual de votos em branco: 10.0\n"
     ]
    }
   ],
   "source": [
    "##### Inicializamos as variáveis contadoras\n",
    "votos_candidato1 = 0\n",
    "votos_candidato2 = 0\n",
    "votos_candidato3 = 0\n",
    "votos_candidato4 = 0\n",
    "votos_nulos = 0\n",
    "votos_branco = 0\n",
    "\n",
    "# Início do laço para ler os votos\n",
    "for i in range(0,20):\n",
    "    voto = int(input('Informe seu voto: '))\n",
    "    if voto == 1:\n",
    "        votos_candidato1 += 1\n",
    "    elif voto == 2:\n",
    "        votos_candidato2 += 1\n",
    "    elif voto == 3:\n",
    "        votos_candidato3 += 1\n",
    "    elif voto == 4:\n",
    "        votos_candidato4 += 1\n",
    "    elif voto == 5:\n",
    "        votos_nulos += 1\n",
    "    elif voto == 6:\n",
    "        votos_branco += 1\n",
    "    else:\n",
    "        print(\"Voto inválido.\")\n",
    "\n",
    "print(f'Votos candidato 1: {votos_candidato1}')\n",
    "print(f'Votos candidato 2: {votos_candidato2}')\n",
    "print(f'Votos candidato 3: {votos_candidato3}')\n",
    "print(f'Votos candidato 4: {votos_candidato4}')\n",
    "print(f'Votos nulos: {votos_nulos}')\n",
    "print(f'Votos em branco: {votos_branco}')\n",
    "print(f'Percentual de votos nulos: {(votos_nulos / 20 * 100)}')\n",
    "print(f'Percentual de votos em branco: {(votos_branco / 20 * 100)}')"
   ]
  },
  {
   "cell_type": "markdown",
   "metadata": {
    "id": "eijHQiNU2IZ7"
   },
   "source": [
    "## Aula 5 - Estruturas de dados"
   ]
  },
  {
   "cell_type": "markdown",
   "metadata": {
    "id": "92F0bKtBMgd7"
   },
   "source": [
    "### Aquecendo na programação"
   ]
  },
  {
   "cell_type": "markdown",
   "metadata": {
    "id": "IypX2ANuMgeC"
   },
   "source": [
    "#### Questão 1\n",
    "Faça um programa que tenha a seguinte lista contendo os valores de gastos de uma empresa de papel `[2172.54, 3701.35, 3518.09, 3456.61, 3249.38, 2840.82, 3891.45, 3075.26, 2317.64, 3219.08]`. Com esses valores, faça um programa que calcule a média de gastos. Dica, use as funções built-in [`sum()`](https://docs.python.org/3/library/functions.html#sum) e [`len()`](https://docs.python.org/3/library/functions.html#len)."
   ]
  },
  {
   "cell_type": "code",
   "execution_count": 6,
   "metadata": {
    "id": "ge3LuFhLMgeD"
   },
   "outputs": [
    {
     "data": {
      "text/plain": [
       "3144.222"
      ]
     },
     "execution_count": 6,
     "metadata": {},
     "output_type": "execute_result"
    }
   ],
   "source": [
    "valores_de_gastos = [2172.54, 3701.35, 3518.09, 3456.61, 3249.38, 2840.82, 3891.45, 3075.26, 2317.64, 3219.08]\n",
    "media_de_gastos = sum(valores_de_gastos)/len(valores_de_gastos)\n",
    "media_de_gastos"
   ]
  },
  {
   "cell_type": "markdown",
   "metadata": {
    "id": "xrOeLhQkMgeD"
   },
   "source": [
    "#### Questão 2\n",
    " Com os mesmos dados da questão anterior, defina quantas compras foram acima de 3000 reais e calcule a porcentagem quanto ao total de compras."
   ]
  },
  {
   "cell_type": "code",
   "execution_count": 36,
   "metadata": {
    "id": "Ygu5TMZyMgeD"
   },
   "outputs": [
    {
     "name": "stdout",
     "output_type": "stream",
     "text": [
      "O número de compras acima de R$3000,00 foi de: 7\n",
      "A procentagem relacionada ao total de compras foi: 70.0%\n"
     ]
    }
   ],
   "source": [
    "contador_3000 = 0\n",
    "qnt_compras = len(valores_de_gastos)\n",
    "for gasto in valores_de_gastos:\n",
    "    if gasto > 3000:\n",
    "        contador_3000 += 1\n",
    "\n",
    "porcentagem_gastos_3000 = 100 * (contador_3000)/(qnt_compras)\n",
    "\n",
    "print(f'O número de compras acima de R$3000,00 foi de: {contador_3000}')\n",
    "print(f'A procentagem relacionada ao total de compras foi: {porcentagem_gastos_3000}%')"
   ]
  },
  {
   "cell_type": "markdown",
   "metadata": {
    "id": "JgCOrE_BMgeD"
   },
   "source": [
    "#### Questão 3\n",
    "Faça um código que colete em uma lista 5 números inteiros quaisquer e imprima a lista. Exemplo: `[1,4,7,2,4]`."
   ]
  },
  {
   "cell_type": "code",
   "execution_count": 40,
   "metadata": {
    "id": "vtM9O1hLMgeD"
   },
   "outputs": [
    {
     "name": "stdin",
     "output_type": "stream",
     "text": [
      "Digite um número inteiro: 10\n",
      "Digite um número inteiro: 5\n",
      "Digite um número inteiro: 7\n",
      "Digite um número inteiro: 8\n",
      "Digite um número inteiro: 20\n"
     ]
    },
    {
     "name": "stdout",
     "output_type": "stream",
     "text": [
      "A sua lista é: [5, 7, 8, 10, 20]\n"
     ]
    }
   ],
   "source": [
    "lista = []\n",
    "for i in range(0, 5):\n",
    "    numero = int(input('Digite um número inteiro:'))\n",
    "    lista.append(numero)\n",
    "\n",
    "lista.sort()\n",
    "print(f'A sua lista é: {lista}')"
   ]
  },
  {
   "cell_type": "markdown",
   "metadata": {
    "id": "p3bTp88HMgeD"
   },
   "source": [
    "#### Questão 4\n",
    "Colete novamente 5 inteiros e imprima a lista em ordem inversa à enviada."
   ]
  },
  {
   "cell_type": "code",
   "execution_count": 42,
   "metadata": {
    "id": "-CGwMIyHMgeD"
   },
   "outputs": [
    {
     "name": "stdin",
     "output_type": "stream",
     "text": [
      "Digite um número inteiro: 2\n",
      "Digite um número inteiro: 3\n",
      "Digite um número inteiro: 4\n",
      "Digite um número inteiro: 5\n",
      "Digite um número inteiro: 6\n"
     ]
    },
    {
     "name": "stdout",
     "output_type": "stream",
     "text": [
      "A sua lista é: [6, 5, 4, 3, 2]\n"
     ]
    }
   ],
   "source": [
    "lista = []\n",
    "for i in range(0, 5):\n",
    "    numero = int(input('Digite um número inteiro:'))\n",
    "    lista.append(numero)\n",
    "\n",
    "print(f'A sua lista é: {lista[::-1]}')"
   ]
  },
  {
   "cell_type": "markdown",
   "metadata": {
    "id": "eIXd_z1lMgeD"
   },
   "source": [
    "#### Questão 5\n",
    "Faça um programa que, ao inserir um número qualquer, criará uma lista contendo todos os números primos entre 1 e o número digitado."
   ]
  },
  {
   "cell_type": "code",
   "execution_count": 54,
   "metadata": {
    "id": "rj_6GHstMgeE"
   },
   "outputs": [
    {
     "name": "stdin",
     "output_type": "stream",
     "text": [
      "Digite um número inteiro: 98\n"
     ]
    },
    {
     "name": "stdout",
     "output_type": "stream",
     "text": [
      "A lista de todos os primos entre 1 e 98 está aqui:\n",
      "[2, 3, 5, 7, 11, 13, 17, 19, 23, 29, 31, 37, 41, 43, 47, 53, 59, 61, 67, 71, 73, 79, 83, 89, 97]\n",
      "Totalizando 25 de números primos\n"
     ]
    }
   ],
   "source": [
    "numero = int(input('Digite um número inteiro:'))\n",
    "lista = []\n",
    "\n",
    "for num in range(2, numero):\n",
    "    primo = True\n",
    "    for teste_primo in range(2, num):\n",
    "        if num % teste_primo == 0:\n",
    "            primo = False\n",
    "            break\n",
    "    if primo:\n",
    "        lista.append(num)\n",
    "            \n",
    "print(f'A lista de todos os primos entre 1 e {numero} está aqui:\\n{lista}\\nTotalizando {len(lista)} de números primos')\n"
   ]
  },
  {
   "cell_type": "markdown",
   "metadata": {
    "id": "zrbz3ENlMgeE"
   },
   "source": [
    "#### Questão 6\n",
    "Escreva um programa que peça uma data informando o dia, mês e ano e determine se ela é uma data válida para uma análise."
   ]
  },
  {
   "cell_type": "code",
   "execution_count": 86,
   "metadata": {
    "id": "0eYA8UjTMgeE"
   },
   "outputs": [
    {
     "name": "stdout",
     "output_type": "stream",
     "text": [
      "Digite uma data informando dia, mês e ano (dd/mm/aaaa:\n"
     ]
    },
    {
     "name": "stdin",
     "output_type": "stream",
     "text": [
      "Dia 30\n",
      "Mês 04\n",
      "Ano 2025\n"
     ]
    },
    {
     "name": "stdout",
     "output_type": "stream",
     "text": [
      "A data é válida para análise\n"
     ]
    }
   ],
   "source": [
    "print('Digite uma data informando dia, mês e ano (dd/mm/aaaa:')\n",
    "dia = int(input('Dia'))\n",
    "mes = int(input('Mês'))\n",
    "ano = int(input('Ano'))\n",
    "data = [dia, mes, ano]\n",
    "bissexto = True\n",
    "\n",
    "if (0 < dia <= 31) and (0< mes <=12) and (0 < ano <= 2025):\n",
    "    if (dia > 29) and (mes == 2):\n",
    "        print('A data não é válida')\n",
    "    elif (dia == 29) and (mes == 2):\n",
    "        ano % 4 != 0\n",
    "        bissexto = False\n",
    "        print('A data não é válida')\n",
    "    elif (dia == 31):\n",
    "        mes_31 = [1, 3, 7, 8, 10, 12]\n",
    "        mes_31[mes] = False\n",
    "        print('A data não é válida para análise')\n",
    "    else:\n",
    "        print('A data é válida para análise')\n",
    "else:\n",
    "    print('A data não é válida para análise')"
   ]
  },
  {
   "cell_type": "markdown",
   "metadata": {
    "id": "ut_4VHdGMgeE"
   },
   "source": [
    "### Momento dos projetos"
   ]
  },
  {
   "cell_type": "markdown",
   "metadata": {
    "id": "G86Z0vD_MgeE"
   },
   "source": [
    "#### Questão 7\n",
    "Para um estudo envolvendo o nível de multiplicação de bactérias em uma colônia, foi coletado o número de bactérias multiplicadas por dia, com base em um processo de duplicação diária e pode ser observado a seguir: `[1.2, 2.1, 3.3, 5.0, 7.8, 11.3, 16.6, 25.1, 37.8, 56.9]`. Tendo esses valores, faça um código que gere uma lista contendo o percentual de crescimento de bactérias por dia, comparando o número de bactérias em cada dia com o número de bactérias do dia anterior. Dica: para calcular o percentual de crescimento usamos a seguinte equação: `100 * (amostra_atual - amostra_passada) / (amostra_passada)`."
   ]
  },
  {
   "cell_type": "code",
   "execution_count": 92,
   "metadata": {
    "id": "PXNO_CFkMgeE"
   },
   "outputs": [
    {
     "name": "stdout",
     "output_type": "stream",
     "text": [
      "[75.00000000000001, 57.142857142857125, 51.51515151515153, 56.0, 44.87179487179489, 46.90265486725664, 51.20481927710843, 50.59760956175297, 50.52910052910054]\n"
     ]
    }
   ],
   "source": [
    "col_bac = [1.2, 2.1, 3.3, 5.0, 7.8, 11.3, 16.6, 25.1, 37.8, 56.9]\n",
    "por_crescimento = []\n",
    "\n",
    "for i in range(1, len(col_bac)):\n",
    "    porc = 100*(col_bac[i] - col_bac[i-1])/(col_bac[i-1])\n",
    "    por_crescimento.append(porc)\n",
    "print(por_crescimento)\n",
    "\n"
   ]
  },
  {
   "cell_type": "markdown",
   "metadata": {
    "id": "p4nxogpnMgeE"
   },
   "source": [
    "#### Questão 8\n",
    "Para uma seleção de produtos alimentícios, precisamos separar o conjunto de IDs dados por números inteiros, sabendo que os produtos com ID par são doces e os com ID ímpar são amargos. Monte um código que colete 10 IDs. Depois, calcule e mostre a quantidade de produtos doces e amargos."
   ]
  },
  {
   "cell_type": "code",
   "execution_count": 98,
   "metadata": {
    "id": "WqjO2SZkMgeE"
   },
   "outputs": [
    {
     "name": "stdin",
     "output_type": "stream",
     "text": [
      "Digiite o número 1º ID: 2\n",
      "Digiite o número 2º ID: 20\n",
      "Digiite o número 3º ID: 5\n",
      "Digiite o número 4º ID: 8\n",
      "Digiite o número 5º ID: 10\n",
      "Digiite o número 6º ID: 33\n",
      "Digiite o número 7º ID: 5\n",
      "Digiite o número 8º ID: 78\n",
      "Digiite o número 9º ID: 90\n",
      "Digiite o número 10º ID: 20\n"
     ]
    },
    {
     "name": "stdout",
     "output_type": "stream",
     "text": [
      "Quantidade de produtos doces:7\n",
      "Quantidade de produtos amargos:3\n"
     ]
    }
   ],
   "source": [
    "ID = []\n",
    "doce = 0\n",
    "amargo = 0\n",
    "\n",
    "for i in range(1,11):\n",
    "    ID.append(int(input(f'Digiite o número {i}º ID:')))\n",
    "for id in ID:\n",
    "    if id %2 == 0:\n",
    "        doce += 1\n",
    "    else:\n",
    "        amargo += 1\n",
    "\n",
    "print(f'Quantidade de produtos doces:{doce}')\n",
    "print(f'Quantidade de produtos amargos:{amargo}')"
   ]
  },
  {
   "cell_type": "markdown",
   "metadata": {
    "id": "t5OrLxV6MgeE"
   },
   "source": [
    "#### Questão 9\n",
    "Desenvolva um programa que informa a nota de um aluno de acordo com suas respostas. Ele deve pedir a resposta de um aluno para cada questão e é preciso verificar se a resposta foi igual ao gabarito. Cada questão vale um ponto e existem alternativas:  A, B, C ou D.\n",
    "```\n",
    "Gabarito da Prova:\n",
    "01 - D\n",
    "02 - A\n",
    "03 - C\n",
    "04 - B\n",
    "05 - A\n",
    "06 - D\n",
    "07 - C\n",
    "08 - C\n",
    "09 - A\n",
    "10 - B\n",
    "```"
   ]
  },
  {
   "cell_type": "code",
   "execution_count": 136,
   "metadata": {
    "id": "ytIQDJrQMgeE"
   },
   "outputs": [
    {
     "name": "stdin",
     "output_type": "stream",
     "text": [
      "Digite a sua resposta da 1ª questão: a\n",
      "Digite a sua resposta da 2ª questão: b\n",
      "Digite a sua resposta da 3ª questão: c\n",
      "Digite a sua resposta da 4ª questão: d\n",
      "Digite a sua resposta da 5ª questão: a\n",
      "Digite a sua resposta da 6ª questão: b\n",
      "Digite a sua resposta da 7ª questão: c\n",
      "Digite a sua resposta da 8ª questão: d\n",
      "Digite a sua resposta da 9ª questão: a\n",
      "Digite a sua resposta da 10ª questão: b\n"
     ]
    },
    {
     "name": "stdout",
     "output_type": "stream",
     "text": [
      "Sua nota foi:5\n"
     ]
    }
   ],
   "source": [
    "resposta = []\n",
    "gab = ['D', 'A', 'C', 'B', 'A', 'D', 'C', 'C', 'A', 'B']\n",
    "nota = 0\n",
    "\n",
    "for i in range(0, 10):\n",
    "    resposta.append(input(f'Digite a sua resposta da {i+1}ª questão:').upper())\n",
    "for i in range(0, 10):\n",
    "    if resposta[i] == gab[i]:\n",
    "        nota += 1\n",
    "\n",
    "print(f'Sua nota foi:{nota}')"
   ]
  },
  {
   "cell_type": "code",
   "execution_count": 128,
   "metadata": {},
   "outputs": [
    {
     "name": "stdin",
     "output_type": "stream",
     "text": [
      "Insira a resposta da questão 1:  a\n",
      "Insira a resposta da questão 2:  b\n",
      "Insira a resposta da questão 3:  c\n",
      "Insira a resposta da questão 4:  d\n",
      "Insira a resposta da questão 5:  a\n",
      "Insira a resposta da questão 6:  b\n",
      "Insira a resposta da questão 7:  c\n",
      "Insira a resposta da questão 8:  d\n",
      "Insira a resposta da questão 9:  a\n",
      "Insira a resposta da questão 10:  b\n"
     ]
    },
    {
     "name": "stdout",
     "output_type": "stream",
     "text": [
      "Nota final: 5\n"
     ]
    }
   ],
   "source": [
    "respostas = []\n",
    "gabarito = ['D', 'A', 'C', 'B', 'A', 'D', 'C', 'C', 'A', 'B']\n",
    "nota = 0\n",
    "\n",
    "for i in range(0, 10):\n",
    "  respostas.append(input(f'Insira a resposta da questão {i + 1}: ').upper())\n",
    "\n",
    "for i in range(0,10):\n",
    "  if respostas[i] == gabarito[i]:\n",
    "    nota += 1\n",
    "\n",
    "print(f'Nota final: {nota}')"
   ]
  },
  {
   "cell_type": "markdown",
   "metadata": {
    "id": "aSBMzh-AMgeF"
   },
   "source": [
    "#### Questão 10\n",
    "Um instituto de meteorologia deseja fazer um estudo de temperatura média de cada mês do ano. Para isso, você precisa fazer um código que colete e armazene essas temperaturas médias em uma lista. Depois, calcule a média anual das temperaturas e mostre todas as temperaturas acima da média anual, e em que mês elas ocorreram, mostrando os meses por extenso: Janeiro, Fevereiro, etc."
   ]
  },
  {
   "cell_type": "code",
   "execution_count": 146,
   "metadata": {
    "id": "ftj04s2uMgeF"
   },
   "outputs": [
    {
     "name": "stdin",
     "output_type": "stream",
     "text": [
      "Digite a temperatura do mês 1: 38.2\n",
      "Digite a temperatura do mês 2: 39.1\n",
      "Digite a temperatura do mês 3: 37.3\n",
      "Digite a temperatura do mês 4: 33.8\n",
      "Digite a temperatura do mês 5: 28.9\n",
      "Digite a temperatura do mês 6: 25.4\n",
      "Digite a temperatura do mês 7: 26.7\n",
      "Digite a temperatura do mês 8: 30\n",
      "Digite a temperatura do mês 9: 31.2\n",
      "Digite a temperatura do mês 10: 32.1\n",
      "Digite a temperatura do mês 11: 35.2\n",
      "Digite a temperatura do mês 12: 38.9\n"
     ]
    },
    {
     "name": "stdout",
     "output_type": "stream",
     "text": [
      "A temperatura média anual foi de 33.06666666666667 ºC\n",
      "As temperaturas acima da média são:\n",
      "Janeiro\n",
      "Fevereiro\n",
      "Março\n",
      "Abril\n",
      "Novembro\n",
      "Dezembro\n"
     ]
    }
   ],
   "source": [
    "meses = ['Janeiro','Fevereiro','Março','Abril','Maio','Junho','Julho','Agosto','Setembro','Outubro','Novembro','Dezembro']\n",
    "temp_mes = []\n",
    "\n",
    "for i in range(0,12):\n",
    "    temp_mes.append(float(input(f'Digite a temperatura do mês {i+1}:')))\n",
    "    \n",
    "temp_media = sum(temp_mes)/len(temp_mes)\n",
    "print(f'A temperatura média anual foi de {temp_media} ºC')\n",
    "\n",
    "print('As temperaturas acima da média são:')\n",
    "for i in range(0,12):\n",
    "    if temp_mes[i] > temp_media:\n",
    "        print(meses[i])\n"
   ]
  },
  {
   "cell_type": "markdown",
   "metadata": {
    "id": "0X8S6s4jMgeF"
   },
   "source": [
    "#### Questão 11\n",
    "Uma empresa de e-commerce está interessada em analisar as vendas dos seus produtos. Os dados das vendas foram armazenados em um dicionário:\n",
    "```\n",
    "{'Produto A': 300, 'Produto B': 80, 'Produto C': 60,\n",
    " 'Produto D': 200, 'Produto E': 250, 'Produto F': 30}\n",
    "```\n",
    "Escreva um código que calcule o total de vendas e o produto mais vendido."
   ]
  },
  {
   "cell_type": "code",
   "execution_count": 234,
   "metadata": {
    "id": "Xa3DJLtFMgeF"
   },
   "outputs": [
    {
     "name": "stdout",
     "output_type": "stream",
     "text": [
      "Total de vendas é 970\n",
      "Produto D é o mais vendido\n"
     ]
    }
   ],
   "source": [
    "dados_vendas = {'Produto A': 150, 'Produto B': 80, 'Produto C': 60, 'Produto D': 400, 'Produto E': 250, 'Produto F': 30}\n",
    "\n",
    "total_vendas = 0\n",
    "produto_mais_vendido = ''\n",
    "unidades_produto_mais_vendido = 0\n",
    "\n",
    "for produto in dados_vendas.keys():\n",
    "    total_vendas += dados_vendas[produto]\n",
    "    if dados_vendas[produto] > unidades_produto_mais_vendido:\n",
    "        unidades_produto_mais_vendido = dados_vendas[produto]\n",
    "        produto_mais_vendido = produto\n",
    "# Resultados\n",
    "print(f'Total de vendas é {total_vendas}')\n",
    "print(f'{produto_mais_vendido} é o mais vendido')"
   ]
  },
  {
   "cell_type": "markdown",
   "metadata": {
    "id": "nrEwf_1ZMgeF"
   },
   "source": [
    "#### Questão 12\n",
    "Uma pesquisa de mercado foi feita para decidir qual design de uma marca infantil mais agrada crianças. A pesquisa foi feita e o votos computados podem ser observados abaixo:\n",
    "```\n",
    "'''\n",
    "Tabela de votos da marca\n",
    "Design 1 - 1334 votos\n",
    "Design 2 - 982 votos\n",
    "Design 3 - 1751 votos\n",
    "Design 4 - 210 votos\n",
    "Design 5 - 1811 votos\n",
    "'''\n",
    "```\n",
    "Adapte os dados fornecidos a você para uma estrutura de dicionário e a partir dele, informe o design vencedor e a porcentagem de votos recebidos.\n"
   ]
  },
  {
   "cell_type": "code",
   "execution_count": 246,
   "metadata": {
    "id": "MRPcGR-_MgeF"
   },
   "outputs": [
    {
     "name": "stdout",
     "output_type": "stream",
     "text": [
      "O vencedor da votação foi:Design5\n",
      "Com um percentual de:29.747043363994745%\n"
     ]
    }
   ],
   "source": [
    "dic_votos = {'Design1':1334,'Design2':982,'Design3':1751,'Design4':210,'Design5':1811}\n",
    "vencedor = ''\n",
    "comp_votos = 0\n",
    "total_votos = sum(dic_votos.values())\n",
    "\n",
    "for voto in dic_votos.keys():\n",
    "    if dic_votos[voto] > comp_votos:\n",
    "        comp_votos = dic_votos[voto]\n",
    "        vencedor = voto\n",
    "\n",
    "porcentagem = (100 * (comp_votos)/total_votos)\n",
    "print(f'O vencedor da votação foi:{vencedor}')\n",
    "print(f'Com um percentual de:{porcentagem}%')"
   ]
  },
  {
   "cell_type": "markdown",
   "metadata": {
    "id": "HRTFFzKIMgeF"
   },
   "source": [
    "#### Questão 13\n",
    "Os funcionários de um setor da empresa que você trabalha vão receber um abono correspondente a 10% do seu salário devido ao ótimo desempenho do time. O setor financeiro solicitou sua ajuda para a verificação das consequências financeiras que esse abono irá gerar nos recursos. Assim, foi encaminhada para você uma lista com os salários que receberão o abono: `[1172, 1644, 2617, 5130, 5532, 6341, 6650, 7238, 7685, 7782, 7903]`. O abono de cada funcionário não pode ser inferior a 200. Em código, transforme cada um dos salários em chaves de um dicionário e o abono de cada salário no elemento. Depois, informe o total de gastos com o abono, quantos funcionários receberam o abono mínimo e qual o maior valor de abono fornecido.\n"
   ]
  },
  {
   "cell_type": "code",
   "execution_count": 272,
   "metadata": {
    "id": "QsDSCua42bLB",
    "scrolled": true
   },
   "outputs": [
    {
     "name": "stdout",
     "output_type": "stream",
     "text": [
      "Valores dos Abonos em R$: dict_values([200, 200, 261.7, 513.0, 553.2, 634.1, 665.0, 723.8000000000001, 768.5, 778.2, 790.3000000000001])\n",
      "O total de gastos com o abono foi de R$6087.8.\n",
      "No total, 2 funcionários receberam o abono mínimo.\n",
      "O maior valor de abono pago foi de R$790.3000000000001\n"
     ]
    }
   ],
   "source": [
    "salarios = [1172, 1644, 2617, 5130, 5532, 6341, 6650, 7238, 7685, 7782, 7903]\n",
    "dic_salarios = {}\n",
    "total_abono = 0\n",
    "abono_maximo = 0\n",
    "maior_valor = 0\n",
    "funcionarios_minimo = 0\n",
    "\n",
    "for salario in salarios:\n",
    "    abono = salario * 0.1\n",
    "    if abono < 200:\n",
    "        abono = 200\n",
    "        funcionarios_minimo += 1\n",
    "    dic_salarios[salario] = abono\n",
    "    if abono > abono_maximo:\n",
    "        abono_maximo = abono\n",
    "        \n",
    "total_abono = sum(dic_salarios.values())\n",
    "\n",
    "print(f'Valores dos Abonos em R$: {dic_salarios.values()}')\n",
    "print(f'O total de gastos com o abono foi de R${total_abono}.')\n",
    "print(f'No total, {funcionarios_minimo} funcionários receberam o abono mínimo.')\n",
    "print(f'O maior valor de abono pago foi de R${abono_maximo}')\n",
    "\n",
    "    "
   ]
  },
  {
   "cell_type": "markdown",
   "metadata": {
    "id": "6dEXZEwjMlWy"
   },
   "source": [
    "#### Questão 14\n",
    "Uma equipe de cientistas de dados está estudando a diversidade biológica em uma floresta. A equipe fez a coleta de informações sobre o número de espécies de plantas e animais em cada área da floresta e armazenaram essas informações em um dicionário. Nele, a chave descreve a área dos dados e os valores nas listas correspondem às espécies de plantas e animais nas áreas, respectivamente.\n",
    "```\n",
    "{'Área Norte': [2819, 7236],\n",
    " 'Área Leste': [1440, 9492],\n",
    " 'Área Sul': [5969, 7496],\n",
    " 'Área Oeste': [14446, 49688],\n",
    " 'Área Centro': [22558, 45148]}\n",
    "```\n",
    "Escreva um código para calcular a média de espécies por área e identificar a área com a maior diversidade biológica. Dica: use as funções built-in [`sum()`](https://docs.python.org/3/library/functions.html#sum) e [`len()`](https://docs.python.org/3/library/functions.html#len).\n"
   ]
  },
  {
   "cell_type": "code",
   "execution_count": null,
   "metadata": {
    "id": "eQnOUDfYMlWy"
   },
   "outputs": [],
   "source": [
    "# Especificamos os dados para um dicionário\n",
    "dados = {'Área Norte': [2819, 7236],\n",
    "         'Área Leste': [1440, 9492],\n",
    "         'Área Sul': [5969, 7496],\n",
    "         'Área Oeste': [14446, 49688],\n",
    "         'Área Centro': [22558, 45148]}\n",
    "# Inicializamos as variáveis\n",
    "soma_media = 0 # Irá somar todas as médias\n",
    "maior_diversidade = '' # Irá armazenar a área com maior diversidade\n",
    "maior_soma = 0 # Irá armazenar a maior soma de espécies \n",
    "# Percorremos os valores de chaves e elementos do dicionário\n",
    "for area, especies in dados.items():\n",
    "  # Fazemos a soma do números de espécies em cada área com a função sum\n",
    "  soma_especies = sum(especies)\n",
    "  # Calculamos a média dividindo a soma das espécies pela quantidade de espécies\n",
    "  media = soma_especies / len(especies)\n",
    "  # Imprimimos\n",
    "  print(f'A {area} tem a média de {media} espécies')\n",
    "  # Verificamos se a soma das espécies é maior que o valor armazenado de maior_soma\n",
    "  # Cada vez que a soma_especies superar o valor de maior_soma, \n",
    "  # a variável maior_soma vai ser igual à soma_especies, atribuindo um novo valor\n",
    "  # De forma similar, maior_diversidade também é substituída\n",
    "  if soma_especies > maior_soma:\n",
    "      maior_soma = soma_especies\n",
    "      maior_diversidade = area\n",
    "  # Somamos as médias\n",
    "  soma_media += media\n",
    "# A média total será dada pela soma_media dividida pela quantidade de áreas\n",
    "media_total = soma_media / len(dados)\n",
    "print(f'Média geral de espécies: {media_total}')\n",
    "print(f'Área com a maior diversidade biológica: {maior_diversidade}')"
   ]
  },
  {
   "cell_type": "markdown",
   "metadata": {
    "id": "r0RW2Sy_MlWy"
   },
   "source": [
    "#### Questão 15\n",
    "O setor de RH da sua empresa te pediu uma ajuda para analisar as idades dos funcionários de 4 setores da empresa. Para isso, ele te forneceu os seguintes dados:\n",
    "```\n",
    "{'Setor A': [22, 26, 30, 30, 35, 38, 40, 56, 57, 65],\n",
    " 'Setor B': [22, 24, 26, 33, 41, 49, 50, 54, 60, 64],\n",
    " 'Setor C': [23, 26, 26, 29, 34, 35, 36, 41, 52, 56],\n",
    " 'Setor D': [19, 20, 25, 27, 34, 39, 42, 44, 50, 65]}\n",
    "``` \n",
    "Sabendo que cada setor tem 10 funcionários, construa um código que calcule a média de idade de cada setor, a idade média geral entre todos os setores e quantas pessoas estão acima da idade média geral.\n"
   ]
  },
  {
   "cell_type": "code",
   "execution_count": null,
   "metadata": {
    "id": "wCiwyKP3MmTz"
   },
   "outputs": [],
   "source": [
    "# Especificamos os dados para um dicionário\n",
    "dados = {'Setor A': [22, 26, 30, 30, 35, 38, 40, 56, 57, 65],\n",
    "        'Setor B': [22, 24, 26, 33, 41, 49, 50, 54, 60, 64],\n",
    "        'Setor C': [23, 26, 26, 29, 34, 35, 36, 41, 52, 56],\n",
    "        'Setor D': [19, 20, 25, 27, 34, 39, 42, 44, 50, 65]}\n",
    "# Inicializamos a variável que irá somar todas as idades\n",
    "total_idades = 0\n",
    "# Percorremos os valores de chaves e elementos do dicionário\n",
    "for setor, idades in dados.items():\n",
    "  # Calculamos a média dividindo a soma das idades pela quantidade funcionários em cada setor\n",
    "  media_idade = sum(idades) / len(idades)\n",
    "  # Imprimimos\n",
    "  print(f'O {setor} tem a média de {media_idade}')\n",
    "  # Somamos as médias\n",
    "  total_idades += sum(idades)\n",
    "# A média total será dada pela total_idades dividida pela quantidade de pessoas totais (setores * funcionários por setor)\n",
    "media_total = total_idades / (len(idades) * len(dados))\n",
    "print(f'A média de idade geral é {media_total}')\n",
    "\n",
    "# Inicializamos a variável que irá contar todas pessoas com idade acima da média\n",
    "acima_media = 0\n",
    "# Percorremos novamente os valores de chaves e elementos do dicionário\n",
    "for setor, idades in dados.items():\n",
    "  # Lemos os elementos (idades) dentro de cada lista de idades no dicionário\n",
    "  for id in idades:\n",
    "    # Verificamos se o valor da idade é superior à média total\n",
    "    if id > media_total:\n",
    "      # Caso o valor da idade seja superior à média, incrementamos mais um no contador\n",
    "      acima_media += 1\n",
    "# Resultado\n",
    "print(f'{acima_media} pessoas estão acima da idade média geral')"
   ]
  }
 ],
 "metadata": {
  "colab": {
   "authorship_tag": "ABX9TyNAcHMa4C+Q6J7M1CkYm1Tn",
   "provenance": [],
   "toc_visible": true
  },
  "kernelspec": {
   "display_name": "Python [conda env:base] *",
   "language": "python",
   "name": "conda-base-py"
  },
  "language_info": {
   "codemirror_mode": {
    "name": "ipython",
    "version": 3
   },
   "file_extension": ".py",
   "mimetype": "text/x-python",
   "name": "python",
   "nbconvert_exporter": "python",
   "pygments_lexer": "ipython3",
   "version": "3.12.7"
  }
 },
 "nbformat": 4,
 "nbformat_minor": 4
}
